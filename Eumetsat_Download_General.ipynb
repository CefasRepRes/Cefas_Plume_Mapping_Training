{
 "cells": [
  {
   "cell_type": "markdown",
   "id": "fb6ab63e",
   "metadata": {},
   "source": [
    "### Download Eumetsat data\n",
    "\n",
    "The following notebook shows a method to download data from Eumetsat using its API.\n",
    "\n",
    "You will need an account with Eumetsat, and this will give you a consumer key, and consumer secret.\n",
    "\n",
    "Quick start with Python page\n",
    "https://eumetsatspace.atlassian.net/wiki/spaces/EUMDAC/pages/1760198661/Quickstart+for+Python\n",
    "\n",
    "Example Python code\n",
    "https://eumetsatspace.atlassian.net/wiki/spaces/EUMDAC/pages/1760100382/Examples"
   ]
  },
  {
   "cell_type": "markdown",
   "id": "d285bd23",
   "metadata": {},
   "source": [
    "#### Set Up"
   ]
  },
  {
   "cell_type": "markdown",
   "id": "b9527a8f",
   "metadata": {},
   "source": [
    "Import EUMDAC to begin."
   ]
  },
  {
   "cell_type": "code",
   "execution_count": 1,
   "id": "d83a5635",
   "metadata": {},
   "outputs": [],
   "source": [
    "import eumdac\n",
    "import datetime\n",
    "import shutil"
   ]
  },
  {
   "cell_type": "markdown",
   "id": "56975489",
   "metadata": {},
   "source": [
    "Authorize with your personal API keys:\n",
    "Insert your personal key and secret into the single quotes"
   ]
  },
  {
   "cell_type": "code",
   "execution_count": 2,
   "id": "008b8bb1",
   "metadata": {},
   "outputs": [
    {
     "name": "stdout",
     "output_type": "stream",
     "text": [
      "This token 'eb951b95-3968-3c90-ad7f-4afc890e8f68' expires 2022-05-31 11:58:02.967056\n"
     ]
    }
   ],
   "source": [
    "\n",
    "consumer_key = ''\n",
    "consumer_secret = ''\n",
    "\n",
    "credentials = (consumer_key, consumer_secret)\n",
    "\n",
    "token = eumdac.AccessToken(credentials)\n",
    "\n",
    "print(f\"This token '{token}' expires {token.expiration}\")"
   ]
  },
  {
   "cell_type": "markdown",
   "id": "7affc480",
   "metadata": {},
   "source": [
    "#### List all available data"
   ]
  },
  {
   "cell_type": "code",
   "execution_count": 3,
   "id": "cc47ef47",
   "metadata": {},
   "outputs": [
    {
     "data": {
      "text/plain": [
       "[<class 'eumdac.collection.Collection'>(EO:EUM:DAT:MSG:MSG15-RSS),\n",
       " <class 'eumdac.collection.Collection'>(EO:EUM:DAT:MSG:RSS-CLM),\n",
       " <class 'eumdac.collection.Collection'>(EO:EUM:DAT:MSG:HRSEVIRI),\n",
       " <class 'eumdac.collection.Collection'>(EO:EUM:DAT:MSG:CLM),\n",
       " <class 'eumdac.collection.Collection'>(EO:EUM:DAT:0411),\n",
       " <class 'eumdac.collection.Collection'>(EO:EUM:DAT:0080),\n",
       " <class 'eumdac.collection.Collection'>(EO:EUM:DAT:0407),\n",
       " <class 'eumdac.collection.Collection'>(EO:EUM:DAT:0409),\n",
       " <class 'eumdac.collection.Collection'>(EO:EUM:DAT:MSG:HRSEVIRI-IODC),\n",
       " <class 'eumdac.collection.Collection'>(EO:EUM:DAT:MSG:CLM-IODC),\n",
       " <class 'eumdac.collection.Collection'>(EO:EUM:DAT:0081),\n",
       " <class 'eumdac.collection.Collection'>(EO:EUM:DAT:0082),\n",
       " <class 'eumdac.collection.Collection'>(EO:EUM:DAT:METOP:AVHRRL1),\n",
       " <class 'eumdac.collection.Collection'>(EO:EUM:DAT:METOP:AMSUL1),\n",
       " <class 'eumdac.collection.Collection'>(EO:EUM:DAT:METOP:MHSL1),\n",
       " <class 'eumdac.collection.Collection'>(EO:EUM:DAT:METOP:SOMO12),\n",
       " <class 'eumdac.collection.Collection'>(EO:EUM:DAT:METOP:SOMO25),\n",
       " <class 'eumdac.collection.Collection'>(EO:EUM:DAT:METOP:IASSND02),\n",
       " <class 'eumdac.collection.Collection'>(EO:EUM:DAT:MULT:HIRSL1),\n",
       " <class 'eumdac.collection.Collection'>(EO:EUM:DAT:METOP:ASCSZR1B),\n",
       " <class 'eumdac.collection.Collection'>(EO:EUM:DAT:METOP:ASCSZO1B),\n",
       " <class 'eumdac.collection.Collection'>(EO:EUM:DAT:METOP:ASCSZF1B),\n",
       " <class 'eumdac.collection.Collection'>(EO:EUM:DAT:METOP:OSI-104),\n",
       " <class 'eumdac.collection.Collection'>(EO:EUM:DAT:METOP:IASIL1C-ALL),\n",
       " <class 'eumdac.collection.Collection'>(EO:EUM:DAT:0412),\n",
       " <class 'eumdac.collection.Collection'>(EO:EUM:DAT:METOP:GOMEL1),\n",
       " <class 'eumdac.collection.Collection'>(EO:EUM:DAT:0406),\n",
       " <class 'eumdac.collection.Collection'>(EO:EUM:DAT:0415),\n",
       " <class 'eumdac.collection.Collection'>(EO:EUM:DAT:METOP:OSI-150-B),\n",
       " <class 'eumdac.collection.Collection'>(EO:EUM:DAT:METOP:OSI-150-A),\n",
       " <class 'eumdac.collection.Collection'>(EO:EUM:DAT:0413),\n",
       " <class 'eumdac.collection.Collection'>(EO:EUM:DAT:0414),\n",
       " <class 'eumdac.collection.Collection'>(EO:EUM:DAT:0417),\n",
       " <class 'eumdac.collection.Collection'>(EO:EUM:DAT:0416),\n",
       " <class 'eumdac.collection.Collection'>(EO:EUM:DAT:0408),\n",
       " <class 'eumdac.collection.Collection'>(EO:EUM:DAT:0410),\n",
       " <class 'eumdac.collection.Collection'>(EO:EUM:DAT:METOP:GLB-SST-NC)]"
      ]
     },
     "execution_count": 3,
     "metadata": {},
     "output_type": "execute_result"
    }
   ],
   "source": [
    "# Get all collection you can explore\n",
    "datastore = eumdac.DataStore(token)\n",
    "datastore.collections"
   ]
  },
  {
   "cell_type": "code",
   "execution_count": 4,
   "id": "e9618274",
   "metadata": {},
   "outputs": [
    {
     "name": "stdout",
     "output_type": "stream",
     "text": [
      "EO:EUM:DAT:MSG:MSG15-RSS - Rapid Scan High Rate SEVIRI Level 1.5 Image Data - MSG\n",
      "EO:EUM:DAT:MSG:RSS-CLM - Rapid Scan Cloud Mask - MSG\n",
      "EO:EUM:DAT:MSG:HRSEVIRI - High Rate SEVIRI Level 1.5 Image Data - MSG - 0 degree\n",
      "EO:EUM:DAT:MSG:CLM - Cloud Mask - MSG - 0 degree\n",
      "EO:EUM:DAT:0411 - SLSTR Level 1B Radiances and Brightness Temperatures - Sentinel-3\n",
      "EO:EUM:DAT:0080 - MVIRI Level 1.5 Climate Data Record Release 1 - MFG - 0 degree\n",
      "EO:EUM:DAT:0407 - OLCI Level 2 Ocean Colour Full Resolution - Sentinel-3\n",
      "EO:EUM:DAT:0409 - OLCI Level 1B Full Resolution - Sentinel-3\n",
      "EO:EUM:DAT:MSG:HRSEVIRI-IODC - High Rate SEVIRI Level 1.5 Image Data - MSG - Indian Ocean\n",
      "EO:EUM:DAT:MSG:CLM-IODC - Cloud Mask - MSG - Indian Ocean\n",
      "EO:EUM:DAT:0081 - MVIRI Level 1.5 Climate Data Record Release 1 - MFG - 57 degree\n",
      "EO:EUM:DAT:0082 - MVIRI Level 1.5 Climate Data Record Release 1 - MFG - 63 degree\n",
      "EO:EUM:DAT:METOP:AVHRRL1 - AVHRR Level 1B - Metop - Global\n",
      "EO:EUM:DAT:METOP:AMSUL1 - AMSU-A Level 1B - Metop - Global\n",
      "EO:EUM:DAT:METOP:MHSL1 - MHS Level 1B - Metop - Global\n",
      "EO:EUM:DAT:METOP:SOMO12 - ASCAT Soil Moisture at 12.5 km Swath Grid in NRT - Metop\n",
      "EO:EUM:DAT:METOP:SOMO25 - ASCAT Soil Moisture at 25 km Swath Grid in NRT - Metop\n",
      "EO:EUM:DAT:METOP:IASSND02 - IASI Combined Sounding Products - Metop\n",
      "EO:EUM:DAT:MULT:HIRSL1 - HIRS Level 1B - Metop - Global\n",
      "EO:EUM:DAT:METOP:ASCSZR1B - ASCAT Level 1 Sigma0 resampled at 12.5 km Swath Grid - Metop - Global\n",
      "EO:EUM:DAT:METOP:ASCSZO1B - ASCAT Level 1 Sigma0 resampled at 25 km Swath Grid - Metop - Global\n",
      "EO:EUM:DAT:METOP:ASCSZF1B - ASCAT Level 1 Sigma0 Full Resolution - Metop - Global\n",
      "EO:EUM:DAT:METOP:OSI-104 - ASCAT Coastal Winds at 12.5 km Swath Grid - Metop\n",
      "EO:EUM:DAT:METOP:IASIL1C-ALL - IASI Level 1C - All Spectral Samples - Metop - Global\n",
      "EO:EUM:DAT:0412 - SLSTR Level 2 Sea Surface Temperature (SST) - Sentinel-3\n",
      "EO:EUM:DAT:METOP:GOMEL1 - GOME-2 Level 1B - Metop - Global\n",
      "EO:EUM:DAT:0406 - SRAL Level 1B - Sentinel-3\n",
      "EO:EUM:DAT:0415 - SRAL Level 2 Altimetry Global - Sentinel-3\n",
      "EO:EUM:DAT:METOP:OSI-150-B - ASCAT L2 12.5 km Winds Data Record Release 1 - Metop\n",
      "EO:EUM:DAT:METOP:OSI-150-A - ASCAT L2 25 km Winds Data Record Release 1 - Metop\n",
      "EO:EUM:DAT:0413 - SRAL Level 1A Unpacked L0 Complex echos - Sentinel-3\n",
      "EO:EUM:DAT:0414 - SRAL Level 1B stack echoes - Sentinel-3\n",
      "EO:EUM:DAT:0417 - SLSTR Level 2 Fire Radiative Power - Sentinel 3\n",
      "EO:EUM:DAT:0416 - SLSTR Level 2 Aerosol Optical Depth - Sentinel-3\n",
      "EO:EUM:DAT:0408 - OLCI Level 2 Ocean Colour Reduced Resolution - Sentinel-3\n",
      "EO:EUM:DAT:0410 - OLCI Level 1B Reduced Resolution - Sentinel-3\n",
      "EO:EUM:DAT:METOP:GLB-SST-NC - Global L3C AVHRR Sea Surface Temperature (GHRSST) - Metop\n"
     ]
    }
   ],
   "source": [
    "#  Now we can just loop over the objects and print the ID and title of each item.\n",
    "for collection in datastore.collections:\n",
    "    print(f\"{collection} - {collection.title}\")"
   ]
  },
  {
   "cell_type": "markdown",
   "id": "7f28fec1",
   "metadata": {},
   "source": [
    "#### Select the data collection to download"
   ]
  },
  {
   "cell_type": "code",
   "execution_count": 5,
   "id": "e046dcbe",
   "metadata": {},
   "outputs": [
    {
     "data": {
      "text/plain": [
       "<class 'eumdac.collection.Collection'>(EO:EUM:DAT:0407)"
      ]
     },
     "execution_count": 5,
     "metadata": {},
     "output_type": "execute_result"
    }
   ],
   "source": [
    "# Select a collection\n",
    "# EO:EUM:DAT:0407 - OLCI Level 2 Ocean Colour Full Resolution - Sentinel-3\n",
    "selected_collection = datastore.get_collection('EO:EUM:DAT:0407')\n",
    "selected_collection"
   ]
  },
  {
   "cell_type": "code",
   "execution_count": 6,
   "id": "881266b9",
   "metadata": {},
   "outputs": [
    {
     "data": {
      "text/html": [
       "<b>OLCI Level 2 Ocean Colour Full Resolution - Sentinel-3</b>"
      ],
      "text/plain": [
       "<IPython.core.display.HTML object>"
      ]
     },
     "metadata": {},
     "output_type": "display_data"
    },
    {
     "data": {
      "text/html": [
       "<b>ID:</b> EO:EUM:DAT:0407"
      ],
      "text/plain": [
       "<IPython.core.display.HTML object>"
      ]
     },
     "metadata": {},
     "output_type": "display_data"
    },
    {
     "data": {
      "text/html": [
       "<b>Abstract:</b> OLCI (Ocean and Land Colour Instrument) Ocean Colour Geophysical Products. Full Resolution: 300m at nadir. All Sentinel-3 NRT products are available at pick-up point in less than 3h. Level 2 marine products include the following: * water-leaving reflectances in 16 bands, Oa**_reflectance (Baseline Atmospheric Correction (BAC) algorithm, bands: 400, 412, 442, 490, 510, 560, 620, 665, 674, 681, 709, 754, 779, 865, 885, 1024 nanometer (nm)); *algal pigment concentration in clear waters, chl_oc4me (BAC and maximum band ratio algorithm, log10 scaled); *algal pigment concentration in turbid waters, chl_nn (neural net algorithm, log10 scaled); *total suspended matter concentration, tsm_nn (neural net algorithm, log10 scaled); *diffuse attenuation coefficient Kd of downward irradiance at 490 nm, trsp (BAC and M07 algorithm, log10 scaled); *absorption coefficient at 443 nm of coloured detrital and dissolved organic matter, iop_nn (neural net algorithm, log10 scaled); *instantaneous photosynthetically active radiation, PAR (BAC and clear-sky ocean algorithm); *aerosol optical thickness T865 and aerosol Angstrom exponent A865, w_aer (BAC algorithm, A for bands 779 and 865 nm) *integrated water vapour column, iwv (1D-Var algorithm). The geophysical products are accompanied by error estimate products. Pixel classification, quality and science flags, as well as meteorological, geometry and geolocation data at tie points are provided. - All Sentinel-3 NRT products are available at pick-up point in less than 3h - All Sentinel-3 Non Time Critical (NTC) products are available at pick-up point in less than 30 days Sentinel-3 is part of a series of Sentinel satellites, under the umbrella of the EU Copernicus programme."
      ],
      "text/plain": [
       "<IPython.core.display.HTML object>"
      ]
     },
     "metadata": {},
     "output_type": "display_data"
    }
   ],
   "source": [
    "# To make the collection output more clear we'll use the \n",
    "# HTML module of IPython. It is not mandatory for EUMDAC.\n",
    "from IPython.core.display import HTML\n",
    "\n",
    "# Display the details for the selected collection\n",
    "display(HTML('<b>'+selected_collection.title+'</b>'))\n",
    "display(HTML('<b>ID:</b> '+str(selected_collection)))\n",
    "display(HTML('<b>Abstract:</b> '+selected_collection.abstract))"
   ]
  },
  {
   "cell_type": "markdown",
   "id": "8bd8339c",
   "metadata": {},
   "source": [
    "#### Set the area of interest and the dates"
   ]
  },
  {
   "cell_type": "code",
   "execution_count": 7,
   "id": "bbfc0609",
   "metadata": {},
   "outputs": [
    {
     "name": "stdout",
     "output_type": "stream",
     "text": [
      "Start date:2021-11-10 01:00:00\n",
      "Finish date:2021-11-11 23:59:00\n",
      "Found Datasets: 3 datasets for the given time range\n",
      "S3B_OL_2_WFR____20211111T103808_20211111T104108_20211112T224309_0179_059_108_1980_MAR_O_NT_003.SEN3\n",
      "S3B_OL_2_WFR____20211110T110419_20211110T110719_20211111T235159_0179_059_094_1980_MAR_O_NT_003.SEN3\n",
      "S3A_OL_2_WFR____20211110T100242_20211110T100542_20211111T230528_0180_078_236_1980_MAR_O_NT_003.SEN3\n"
     ]
    }
   ],
   "source": [
    "# Filter products of selected collection by time and area:\n",
    "\n",
    "# Add vertices for polygon, wrapping back to the start point.\n",
    "geometry = [[-0.2, 53.74],\n",
    "            [0.74, 53.4],\n",
    "            [0.74, 53.65],\n",
    "            [-0.2, 53.65],\n",
    "            [-0.2, 53.74]]\n",
    "\n",
    "# Set sensing start and end time\n",
    "# year, month, day, hour, minute\n",
    "# e.g., 2021-11-10 08:00:00\n",
    "\n",
    "start = datetime.datetime(2021, 11, 10, 1, 0)\n",
    "end = datetime.datetime(2021, 11, 11, 23, 59)\n",
    "\n",
    "print(\"Start date:\" + str(start))\n",
    "print(\"Finish date:\" + str(end))\n",
    "\n",
    "# Retrieve datasets that match our filter\n",
    "products = selected_collection.search(\n",
    "    geo='POLYGON(({}))'.format(','.join([\"{} {}\".format(*coord) for coord in geometry])),\n",
    "    dtstart=start, \n",
    "    dtend=end)\n",
    "  \n",
    "print(f'Found Datasets: {len(products)} datasets for the given time range')\n",
    "\n",
    "for product in products:\n",
    "    print(str(product))\n"
   ]
  },
  {
   "cell_type": "markdown",
   "id": "8627bdfa",
   "metadata": {},
   "source": [
    "#### Download the data\n"
   ]
  },
  {
   "cell_type": "code",
   "execution_count": 39,
   "id": "21527e5d",
   "metadata": {},
   "outputs": [
    {
     "name": "stdout",
     "output_type": "stream",
     "text": [
      "Start: S3B_OL_2_WFR____20211111T103808_20211111T104108_20211112T224309_0179_059_108_1980_MAR_O_NT_003.SEN3\n",
      "C:\\Users\\RH19\\Desktop\\download_test\\S3B_OL_2_WFR____20211111T103808_20211111T104108_20211112T224309_0179_059_108_1980_MAR_O_NT_003.SEN3.zip\n",
      "Start: S3B_OL_2_WFR____20211110T110419_20211110T110719_20211111T235159_0179_059_094_1980_MAR_O_NT_003.SEN3\n",
      "C:\\Users\\RH19\\Desktop\\download_test\\S3B_OL_2_WFR____20211110T110419_20211110T110719_20211111T235159_0179_059_094_1980_MAR_O_NT_003.SEN3.zip\n",
      "Start: S3A_OL_2_WFR____20211110T100242_20211110T100542_20211111T230528_0180_078_236_1980_MAR_O_NT_003.SEN3\n",
      "C:\\Users\\RH19\\Desktop\\download_test\\S3A_OL_2_WFR____20211110T100242_20211110T100542_20211111T230528_0180_078_236_1980_MAR_O_NT_003.SEN3.zip\n"
     ]
    }
   ],
   "source": [
    "import os\n",
    "\n",
    "out_folder = r\"\"\n",
    "\n",
    "for product in products:\n",
    "    print(\"Start: \" + str(product))\n",
    "    with product.open() as source:\n",
    "        out_file = os.path.join(out_folder,str(product) + \".zip\")\n",
    "        print(out_file)\n",
    "        dest_file = open(out_file,'wb')\n",
    "    \n",
    "        shutil.copyfileobj(source,dest_file) \n",
    "        print(f'Download of product {product} finished.')\n",
    "print('All downloads are finished.')"
   ]
  }
 ],
 "metadata": {
  "kernelspec": {
   "display_name": "Python 3",
   "language": "python",
   "name": "python3"
  },
  "language_info": {
   "codemirror_mode": {
    "name": "ipython",
    "version": 3
   },
   "file_extension": ".py",
   "mimetype": "text/x-python",
   "name": "python",
   "nbconvert_exporter": "python",
   "pygments_lexer": "ipython3",
   "version": "3.7.10"
  }
 },
 "nbformat": 4,
 "nbformat_minor": 5
}
